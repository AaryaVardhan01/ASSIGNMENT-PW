{
 "cells": [
  {
   "cell_type": "code",
   "execution_count": 1,
   "id": "14f8dd19-4d2a-437f-a019-f20cff0a0ece",
   "metadata": {},
   "outputs": [],
   "source": [
    "#ANS 1-> Guido van Rossum\n"
   ]
  },
  {
   "cell_type": "code",
   "execution_count": 2,
   "id": "3f96a83f-3ce6-4da1-b802-5deaad779b93",
   "metadata": {},
   "outputs": [],
   "source": [
    "#ANS 2->Python is an interpreted programming language, supporting object-oriented, structured, and functional programming."
   ]
  },
  {
   "cell_type": "code",
   "execution_count": 3,
   "id": "5031955f-9b7c-46c1-a0a0-da399bbdd9f1",
   "metadata": {},
   "outputs": [],
   "source": [
    "#ANS 3->YES Python is case sensitive when dealing with identifiers?"
   ]
  },
  {
   "cell_type": "code",
   "execution_count": 6,
   "id": "82712eb7-d65d-47af-9164-4c0b630dcab8",
   "metadata": {},
   "outputs": [],
   "source": [
    "#ANS 4-> .py"
   ]
  },
  {
   "cell_type": "code",
   "execution_count": 14,
   "id": "645a5ba6-3bca-4996-b25c-aa9d980d34c7",
   "metadata": {},
   "outputs": [],
   "source": [
    "#ANS 5-> INTERPRETED"
   ]
  },
  {
   "cell_type": "code",
   "execution_count": 7,
   "id": "3b40fefd-06c6-4e90-9448-08fa5e62c01f",
   "metadata": {},
   "outputs": [],
   "source": [
    "#ANS 6->Braces {}\n"
   ]
  },
  {
   "cell_type": "code",
   "execution_count": 8,
   "id": "5fbca2c4-964d-4910-b855-1c4d947f7529",
   "metadata": {},
   "outputs": [],
   "source": [
    "#ANS 7-> #"
   ]
  },
  {
   "cell_type": "code",
   "execution_count": 9,
   "id": "1eaeb4b9-74af-4886-b239-ffc2f640b5b5",
   "metadata": {},
   "outputs": [],
   "source": [
    "#ANS 8-> SYS.VERSION"
   ]
  },
  {
   "cell_type": "code",
   "execution_count": 10,
   "id": "bdb2e26a-7ebc-43a3-8138-07a4bc2b7074",
   "metadata": {},
   "outputs": [],
   "source": [
    "#ANS 9-> LAMBDA"
   ]
  },
  {
   "cell_type": "code",
   "execution_count": 13,
   "id": "adf4ec6c-b802-4ea5-b9ba-e0a0693a7c10",
   "metadata": {
    "tags": []
   },
   "outputs": [],
   "source": [
    "#ANS 10->PREFERRED INSTALLER PROGRAM"
   ]
  },
  {
   "cell_type": "code",
   "execution_count": 15,
   "id": "4f818513-6fe3-4790-8884-36536c9aae4b",
   "metadata": {},
   "outputs": [],
   "source": [
    "#ANS 11->PRINT() TYPE() INPUT()"
   ]
  },
  {
   "cell_type": "code",
   "execution_count": 19,
   "id": "ddb27b54-ce3e-42e6-9304-ce88f3cf1dc7",
   "metadata": {},
   "outputs": [],
   "source": [
    "#ANS 12->79"
   ]
  },
  {
   "cell_type": "code",
   "execution_count": 20,
   "id": "4c6fa82d-3b49-4303-9f54-a4e25f1418e5",
   "metadata": {},
   "outputs": [],
   "source": [
    "#ANS 13->SIMPLE,CLEAN,FAST,EASY TO UNDERSTAND"
   ]
  },
  {
   "cell_type": "code",
   "execution_count": 21,
   "id": "a6cea9e1-dff5-4485-82e8-54dcc520967c",
   "metadata": {},
   "outputs": [],
   "source": [
    "#ANS 14->PYTHON INVOLVES A PRIVATE HEAP CONTAINING ALL PYTHON OBJECT AND DATA STRUCTURE."
   ]
  },
  {
   "cell_type": "code",
   "execution_count": null,
   "id": "c690947d-98f4-48b2-87a7-03251c047e70",
   "metadata": {},
   "outputs": [],
   "source": [
    "#ANS 15->DOWNLOAD PYTHON LATEST VERSION FROM GOOGLE.YES INDENTATION REQUIRES IN PYTHON"
   ]
  }
 ],
 "metadata": {
  "kernelspec": {
   "display_name": "Python 3 (ipykernel)",
   "language": "python",
   "name": "python3"
  },
  "language_info": {
   "codemirror_mode": {
    "name": "ipython",
    "version": 3
   },
   "file_extension": ".py",
   "mimetype": "text/x-python",
   "name": "python",
   "nbconvert_exporter": "python",
   "pygments_lexer": "ipython3",
   "version": "3.10.8"
  }
 },
 "nbformat": 4,
 "nbformat_minor": 5
}
